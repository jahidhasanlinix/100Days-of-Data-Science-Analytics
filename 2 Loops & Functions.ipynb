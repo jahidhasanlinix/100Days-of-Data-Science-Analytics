{
 "cells": [
  {
   "cell_type": "code",
   "execution_count": 1,
   "id": "fe6323df",
   "metadata": {},
   "outputs": [
    {
     "name": "stdout",
     "output_type": "stream",
     "text": [
      "x is greater than 2\n"
     ]
    }
   ],
   "source": [
    "# IF statement\n",
    "\n",
    "x = 5\n",
    "if x > 2:\n",
    "    print('x is greater than 2')"
   ]
  },
  {
   "cell_type": "code",
   "execution_count": 2,
   "id": "23c19eba",
   "metadata": {},
   "outputs": [
    {
     "name": "stdout",
     "output_type": "stream",
     "text": [
      "x is less than 2\n"
     ]
    }
   ],
   "source": [
    "# IF-ELSE statement\n",
    "\n",
    "x = 1\n",
    "if x > 2:\n",
    "    print('x is greater than 2')\n",
    "else:\n",
    "    print(\"x is less than 2\")"
   ]
  },
  {
   "cell_type": "code",
   "execution_count": 4,
   "id": "d81334a0",
   "metadata": {},
   "outputs": [
    {
     "name": "stdout",
     "output_type": "stream",
     "text": [
      "Enter the number: 6\n",
      "even\n"
     ]
    }
   ],
   "source": [
    "value = int(input(\"Enter the number: \"))\n",
    "if(value % 2 == 0):\n",
    "    print(\"even\")\n",
    "else:\n",
    "    print(\"odd\")"
   ]
  },
  {
   "cell_type": "code",
   "execution_count": 5,
   "id": "4709578b",
   "metadata": {},
   "outputs": [
    {
     "name": "stdout",
     "output_type": "stream",
     "text": [
      "x is less than 5\n"
     ]
    }
   ],
   "source": [
    "#IF-elif-else\n",
    "x = 0\n",
    "if x > 2:\n",
    "    print('x is greater than 2')\n",
    "elif x<5:\n",
    "    print('x is less than 5')\n",
    "else:\n",
    "    print(\"Invalid\")"
   ]
  },
  {
   "cell_type": "code",
   "execution_count": 6,
   "id": "8b852514",
   "metadata": {},
   "outputs": [
    {
     "name": "stdout",
     "output_type": "stream",
     "text": [
      "Enter the integer value: 90\n",
      "Its a positive integer.\n"
     ]
    }
   ],
   "source": [
    "val = int(input(\"Enter the integer value: \"))\n",
    "\n",
    "if val >=0:\n",
    "    print('Its a positive integer.')\n",
    "else:\n",
    "    print('Its a negative integer')"
   ]
  },
  {
   "cell_type": "code",
   "execution_count": 7,
   "id": "e6335991",
   "metadata": {},
   "outputs": [
    {
     "name": "stdout",
     "output_type": "stream",
     "text": [
      "Enter the integer value: 91\n",
      "91  is a positive integer.\n"
     ]
    }
   ],
   "source": [
    "val = int(input(\"Enter the integer value: \"))\n",
    "\n",
    "if val >=0:\n",
    "    print(val,' is a positive integer.')\n",
    "else:\n",
    "    print(val, ' is a negative integer')"
   ]
  },
  {
   "cell_type": "code",
   "execution_count": 8,
   "id": "97fe9cf4",
   "metadata": {},
   "outputs": [
    {
     "name": "stdout",
     "output_type": "stream",
     "text": [
      "Enter the integer value: -90\n",
      "-90 is a negative integer\n"
     ]
    }
   ],
   "source": [
    "val = int(input(\"Enter the integer value: \"))\n",
    "\n",
    "if val >=0:\n",
    "    print('%d is a positive integer.'%(val))\n",
    "else:\n",
    "    print('%d is a negative integer'%(val))"
   ]
  },
  {
   "cell_type": "code",
   "execution_count": 9,
   "id": "3db44f1a",
   "metadata": {},
   "outputs": [
    {
     "name": "stdout",
     "output_type": "stream",
     "text": [
      "Enter the integer value: 0\n",
      "0 is Zero\n"
     ]
    }
   ],
   "source": [
    "val = int(input(\"Enter the integer value: \"))\n",
    "\n",
    "if val >0:\n",
    "    print('%d is a positive integer.'%(val))\n",
    "elif val==0:\n",
    "    print('%d is Zero'%(val)) \n",
    "else:\n",
    "    print('%d is a negative integer'%(val))"
   ]
  },
  {
   "cell_type": "code",
   "execution_count": 10,
   "id": "a9bd22d6",
   "metadata": {},
   "outputs": [
    {
     "name": "stdout",
     "output_type": "stream",
     "text": [
      "Enter the integer value: 7\n",
      "7 is a positive integer.\n"
     ]
    }
   ],
   "source": [
    "val = int(input(\"Enter the integer value: \"))\n",
    "\n",
    "if val >=0:\n",
    "    if val == 0:\n",
    "        print(\"Is zero\")\n",
    "    else:\n",
    "        print('%d is a positive integer.'%(val))\n",
    " \n",
    "else:\n",
    "    print('%d is a negative integer'%(val))"
   ]
  },
  {
   "cell_type": "code",
   "execution_count": 11,
   "id": "8dc20c7e",
   "metadata": {},
   "outputs": [
    {
     "name": "stdout",
     "output_type": "stream",
     "text": [
      "1\n",
      "2\n",
      "3\n",
      "4\n",
      "5\n"
     ]
    }
   ],
   "source": [
    "#for loop\n",
    "Num = [1,2,3,4,5]\n",
    "for i in Num:\n",
    "    print (i)"
   ]
  },
  {
   "cell_type": "code",
   "execution_count": 12,
   "id": "ff4bb3e2",
   "metadata": {},
   "outputs": [
    {
     "name": "stdout",
     "output_type": "stream",
     "text": [
      "1 2 3 4 5 "
     ]
    }
   ],
   "source": [
    "Num = [1,2,3,4,5]\n",
    "for i in Num:\n",
    "    print (i, end=' ')"
   ]
  },
  {
   "cell_type": "code",
   "execution_count": 13,
   "id": "f99c11a8",
   "metadata": {},
   "outputs": [
    {
     "name": "stdout",
     "output_type": "stream",
     "text": [
      "1\n",
      "2\n",
      "3\n",
      "4\n"
     ]
    }
   ],
   "source": [
    "# for loop with range() Function\n",
    "for i in range(1,5):\n",
    "    print(i)"
   ]
  },
  {
   "cell_type": "code",
   "execution_count": 14,
   "id": "365e1f76",
   "metadata": {},
   "outputs": [
    {
     "name": "stdout",
     "output_type": "stream",
     "text": [
      "1 2 3 4 "
     ]
    }
   ],
   "source": [
    "# for loop with range() Function\n",
    "for i in range(1,5):\n",
    "    print(i, end=' ')"
   ]
  },
  {
   "cell_type": "code",
   "execution_count": 15,
   "id": "597338a3",
   "metadata": {},
   "outputs": [
    {
     "name": "stdout",
     "output_type": "stream",
     "text": [
      "1\n",
      "2\n",
      "3\n",
      "4\n"
     ]
    }
   ],
   "source": [
    "# While loop\n",
    "count = 1\n",
    "while count<5:\n",
    "    print(count)\n",
    "    count += 1"
   ]
  },
  {
   "cell_type": "code",
   "execution_count": 16,
   "id": "933a9e5a",
   "metadata": {},
   "outputs": [
    {
     "name": "stdout",
     "output_type": "stream",
     "text": [
      "1 2 3 4 "
     ]
    }
   ],
   "source": [
    "# While loop\n",
    "count = 1\n",
    "while count<5:\n",
    "    print(count, end=' ')\n",
    "    count += 1"
   ]
  },
  {
   "cell_type": "code",
   "execution_count": 17,
   "id": "e73cefaa",
   "metadata": {},
   "outputs": [
    {
     "name": "stdout",
     "output_type": "stream",
     "text": [
      "Enter the number4\n",
      "24\n"
     ]
    }
   ],
   "source": [
    "# factorial calculation\n",
    "fact = 1\n",
    "n = int(input(\"Enter the number\"))\n",
    "i = n\n",
    "while(i != 0):\n",
    "    fact = fact*i\n",
    "    i = i-1\n",
    "print(fact)"
   ]
  },
  {
   "cell_type": "code",
   "execution_count": null,
   "id": "746215c3",
   "metadata": {},
   "outputs": [],
   "source": []
  },
  {
   "cell_type": "code",
   "execution_count": null,
   "id": "5f5f8631",
   "metadata": {},
   "outputs": [],
   "source": []
  }
 ],
 "metadata": {
  "kernelspec": {
   "display_name": "Python 3 (ipykernel)",
   "language": "python",
   "name": "python3"
  },
  "language_info": {
   "codemirror_mode": {
    "name": "ipython",
    "version": 3
   },
   "file_extension": ".py",
   "mimetype": "text/x-python",
   "name": "python",
   "nbconvert_exporter": "python",
   "pygments_lexer": "ipython3",
   "version": "3.9.13"
  }
 },
 "nbformat": 4,
 "nbformat_minor": 5
}
