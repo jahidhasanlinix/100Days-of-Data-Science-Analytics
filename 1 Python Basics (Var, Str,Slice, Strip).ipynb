{
 "cells": [
  {
   "cell_type": "markdown",
   "id": "378af204",
   "metadata": {},
   "source": [
    "# Variable, DataType, Strings"
   ]
  },
  {
   "cell_type": "code",
   "execution_count": 5,
   "id": "3cbee4b9",
   "metadata": {},
   "outputs": [],
   "source": [
    "Num1 = 100\n",
    "Num2 = 200.09\n",
    "StrT = \"Python Basics Day 1\""
   ]
  },
  {
   "cell_type": "code",
   "execution_count": 6,
   "id": "8a69e66d",
   "metadata": {},
   "outputs": [
    {
     "name": "stdout",
     "output_type": "stream",
     "text": [
      "<class 'int'>\n",
      "<class 'float'>\n",
      "<class 'str'>\n"
     ]
    }
   ],
   "source": [
    "print(type(Num1))\n",
    "print(type(Num2))\n",
    "print(type(StrT))"
   ]
  },
  {
   "cell_type": "markdown",
   "id": "06f1873e",
   "metadata": {},
   "source": [
    "# Convert Str to Int"
   ]
  },
  {
   "cell_type": "code",
   "execution_count": 8,
   "id": "fd1da522",
   "metadata": {},
   "outputs": [
    {
     "data": {
      "text/plain": [
       "str"
      ]
     },
     "execution_count": 8,
     "metadata": {},
     "output_type": "execute_result"
    }
   ],
   "source": [
    "Num1 = \"50\"\n",
    "type(Num1)"
   ]
  },
  {
   "cell_type": "code",
   "execution_count": 9,
   "id": "e63e9674",
   "metadata": {},
   "outputs": [
    {
     "name": "stdout",
     "output_type": "stream",
     "text": [
      "<class 'int'>\n"
     ]
    }
   ],
   "source": [
    "print(type(int(Num1)))"
   ]
  },
  {
   "cell_type": "code",
   "execution_count": 10,
   "id": "875ae386",
   "metadata": {},
   "outputs": [
    {
     "name": "stdout",
     "output_type": "stream",
     "text": [
      "2\n"
     ]
    }
   ],
   "source": [
    "print(len(Num1))"
   ]
  },
  {
   "cell_type": "markdown",
   "id": "8603aa51",
   "metadata": {},
   "source": [
    "# Slicing Strings"
   ]
  },
  {
   "cell_type": "code",
   "execution_count": 22,
   "id": "bb6933ed",
   "metadata": {},
   "outputs": [
    {
     "name": "stdout",
     "output_type": "stream",
     "text": [
      "Jahid Hasa, PhD in Computer Science.\n",
      "r Science.\n",
      " Hasa, PhD in C\n",
      "Jahid Hasa, PhD in Computer Sc\n",
      " Hasa\n"
     ]
    }
   ],
   "source": [
    "Text = \"Jahid Hasa, PhD in Computer Science.\"\n",
    "print(Text[:])\n",
    "print(Text[-10:])\n",
    "print(Text[5:20])\n",
    "print(Text[:30])\n",
    "print(Text[5:10])"
   ]
  },
  {
   "cell_type": "markdown",
   "id": "4219946d",
   "metadata": {},
   "source": [
    "# String Strip() Method"
   ]
  },
  {
   "cell_type": "code",
   "execution_count": 29,
   "id": "29eaede7",
   "metadata": {},
   "outputs": [
    {
     "name": "stdout",
     "output_type": "stream",
     "text": [
      "    Try Python Strip method to remove extra whitespaces    \n",
      "Try Python Strip method to remove extra whitespaces\n"
     ]
    }
   ],
   "source": [
    "Text = \"    Try Python Strip method to remove extra whitespaces    \"\n",
    "\n",
    "print(Text)\n",
    "\n",
    "x = Text.strip()\n",
    "\n",
    "print(x)"
   ]
  },
  {
   "cell_type": "code",
   "execution_count": 34,
   "id": "ebe1838a",
   "metadata": {},
   "outputs": [
    {
     "name": "stdout",
     "output_type": "stream",
     "text": [
      "01-12-2024\n",
      "['01', '12', '2024']\n"
     ]
    }
   ],
   "source": [
    "# Split()\n",
    "date = \"01-12-2024\"\n",
    "print(date)\n",
    "print(date.split(\"-\"))"
   ]
  },
  {
   "cell_type": "code",
   "execution_count": 36,
   "id": "e14f24b0",
   "metadata": {},
   "outputs": [
    {
     "name": "stdout",
     "output_type": "stream",
     "text": [
      "Jahid Hasan\n"
     ]
    }
   ],
   "source": [
    "#Concatation\n",
    "FirstName = \"Jahid\"\n",
    "LastName = \"Hasan\"\n",
    "FullName = FirstName+ \" \" +LastName\n",
    "print(FullName)"
   ]
  },
  {
   "cell_type": "code",
   "execution_count": 37,
   "id": "5a90248f",
   "metadata": {},
   "outputs": [
    {
     "name": "stdout",
     "output_type": "stream",
     "text": [
      "Jahid Hasan\n"
     ]
    }
   ],
   "source": [
    "FirstName = \"Jahid\"\n",
    "LastName = \"Hasan\"\n",
    "FullName = f\"{FirstName} {LastName}\"\n",
    "print(FullName)"
   ]
  },
  {
   "cell_type": "code",
   "execution_count": 40,
   "id": "be13f454",
   "metadata": {},
   "outputs": [
    {
     "name": "stdout",
     "output_type": "stream",
     "text": [
      " I am Jahid Hasan, and I am 18 years old.\n"
     ]
    }
   ],
   "source": [
    "#Format()\n",
    "\n",
    "Age = 18\n",
    "Text = \" I am Jahid Hasan, and I am {} years old.\"\n",
    "print(Text.format(Age))"
   ]
  },
  {
   "cell_type": "markdown",
   "id": "cda05211",
   "metadata": {},
   "source": [
    "# Global Variables"
   ]
  },
  {
   "cell_type": "code",
   "execution_count": 42,
   "id": "f7837c44",
   "metadata": {},
   "outputs": [
    {
     "name": "stdout",
     "output_type": "stream",
     "text": [
      "My Name is Jahid\n"
     ]
    }
   ],
   "source": [
    "# Create a variable outside of a function, and use it inside the function\n",
    "\n",
    "Name = \"Jahid\"\n",
    "\n",
    "def myName():\n",
    "    print(\"My Name is \"+Name)\n",
    "    \n",
    "myName()"
   ]
  },
  {
   "cell_type": "code",
   "execution_count": 43,
   "id": "50f9f95e",
   "metadata": {},
   "outputs": [
    {
     "name": "stdout",
     "output_type": "stream",
     "text": [
      "My Name is Hasan\n",
      "My Name is Jahid\n"
     ]
    }
   ],
   "source": [
    "# Create a variable inside of a function, and use it as Global Variable\n",
    "\n",
    "Name = \"Jahid\"\n",
    "\n",
    "def myName():\n",
    "    Name = \"Hasan\"\n",
    "    print(\"My Name is \"+Name)\n",
    "    \n",
    "myName()\n",
    "\n",
    "print(\"My Name is \" +Name)"
   ]
  },
  {
   "cell_type": "code",
   "execution_count": null,
   "id": "e3d473c9",
   "metadata": {},
   "outputs": [],
   "source": []
  }
 ],
 "metadata": {
  "kernelspec": {
   "display_name": "Python 3 (ipykernel)",
   "language": "python",
   "name": "python3"
  },
  "language_info": {
   "codemirror_mode": {
    "name": "ipython",
    "version": 3
   },
   "file_extension": ".py",
   "mimetype": "text/x-python",
   "name": "python",
   "nbconvert_exporter": "python",
   "pygments_lexer": "ipython3",
   "version": "3.9.13"
  }
 },
 "nbformat": 4,
 "nbformat_minor": 5
}
