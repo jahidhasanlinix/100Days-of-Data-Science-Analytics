{
 "cells": [
  {
   "cell_type": "code",
   "execution_count": 12,
   "id": "a532b4d9",
   "metadata": {},
   "outputs": [],
   "source": [
    "import pandas as pd\n",
    "import seaborn as sns\n",
    "import numpy as np\n",
    "from matplotlib import pyplot as plt"
   ]
  },
  {
   "cell_type": "code",
   "execution_count": 13,
   "id": "3a194fe9",
   "metadata": {},
   "outputs": [],
   "source": [
    "# Import csv file and read the dataframe. This dataset took from online\n",
    "data = pd.read_csv(r'customerchurn.csv')"
   ]
  },
  {
   "cell_type": "code",
   "execution_count": 14,
   "id": "2e39a393",
   "metadata": {},
   "outputs": [
    {
     "data": {
      "text/html": [
       "<div>\n",
       "<style scoped>\n",
       "    .dataframe tbody tr th:only-of-type {\n",
       "        vertical-align: middle;\n",
       "    }\n",
       "\n",
       "    .dataframe tbody tr th {\n",
       "        vertical-align: top;\n",
       "    }\n",
       "\n",
       "    .dataframe thead th {\n",
       "        text-align: right;\n",
       "    }\n",
       "</style>\n",
       "<table border=\"1\" class=\"dataframe\">\n",
       "  <thead>\n",
       "    <tr style=\"text-align: right;\">\n",
       "      <th></th>\n",
       "      <th>Customer ID</th>\n",
       "      <th>Churn Label</th>\n",
       "      <th>Account Length (in months)</th>\n",
       "      <th>Local Calls</th>\n",
       "      <th>Local Mins</th>\n",
       "      <th>...</th>\n",
       "      <th>Payment Method</th>\n",
       "      <th>Monthly Charge</th>\n",
       "      <th>Total Charges</th>\n",
       "      <th>Churn Category</th>\n",
       "      <th>Churn Reason</th>\n",
       "    </tr>\n",
       "  </thead>\n",
       "  <tbody>\n",
       "    <tr>\n",
       "      <th>0</th>\n",
       "      <td>4444-BZPU</td>\n",
       "      <td>No</td>\n",
       "      <td>1</td>\n",
       "      <td>3</td>\n",
       "      <td>8.0</td>\n",
       "      <td>...</td>\n",
       "      <td>Direct Debit</td>\n",
       "      <td>10</td>\n",
       "      <td>10</td>\n",
       "      <td>NaN</td>\n",
       "      <td>NaN</td>\n",
       "    </tr>\n",
       "    <tr>\n",
       "      <th>1</th>\n",
       "      <td>5676-PTZX</td>\n",
       "      <td>No</td>\n",
       "      <td>33</td>\n",
       "      <td>179</td>\n",
       "      <td>431.3</td>\n",
       "      <td>...</td>\n",
       "      <td>Paper Check</td>\n",
       "      <td>21</td>\n",
       "      <td>703</td>\n",
       "      <td>NaN</td>\n",
       "      <td>NaN</td>\n",
       "    </tr>\n",
       "    <tr>\n",
       "      <th>2</th>\n",
       "      <td>8532-ZEKQ</td>\n",
       "      <td>No</td>\n",
       "      <td>44</td>\n",
       "      <td>82</td>\n",
       "      <td>217.6</td>\n",
       "      <td>...</td>\n",
       "      <td>Direct Debit</td>\n",
       "      <td>23</td>\n",
       "      <td>1014</td>\n",
       "      <td>NaN</td>\n",
       "      <td>NaN</td>\n",
       "    </tr>\n",
       "    <tr>\n",
       "      <th>3</th>\n",
       "      <td>1314-SMPJ</td>\n",
       "      <td>No</td>\n",
       "      <td>10</td>\n",
       "      <td>47</td>\n",
       "      <td>111.6</td>\n",
       "      <td>...</td>\n",
       "      <td>Paper Check</td>\n",
       "      <td>17</td>\n",
       "      <td>177</td>\n",
       "      <td>NaN</td>\n",
       "      <td>NaN</td>\n",
       "    </tr>\n",
       "    <tr>\n",
       "      <th>4</th>\n",
       "      <td>2956-TXCJ</td>\n",
       "      <td>No</td>\n",
       "      <td>62</td>\n",
       "      <td>184</td>\n",
       "      <td>621.2</td>\n",
       "      <td>...</td>\n",
       "      <td>Direct Debit</td>\n",
       "      <td>28</td>\n",
       "      <td>1720</td>\n",
       "      <td>NaN</td>\n",
       "      <td>NaN</td>\n",
       "    </tr>\n",
       "    <tr>\n",
       "      <th>...</th>\n",
       "      <td>...</td>\n",
       "      <td>...</td>\n",
       "      <td>...</td>\n",
       "      <td>...</td>\n",
       "      <td>...</td>\n",
       "      <td>...</td>\n",
       "      <td>...</td>\n",
       "      <td>...</td>\n",
       "      <td>...</td>\n",
       "      <td>...</td>\n",
       "      <td>...</td>\n",
       "    </tr>\n",
       "    <tr>\n",
       "      <th>6682</th>\n",
       "      <td>2940-QHVU</td>\n",
       "      <td>Yes</td>\n",
       "      <td>3</td>\n",
       "      <td>6</td>\n",
       "      <td>16.8</td>\n",
       "      <td>...</td>\n",
       "      <td>Paper Check</td>\n",
       "      <td>19</td>\n",
       "      <td>52</td>\n",
       "      <td>Competitor</td>\n",
       "      <td>Competitor offered higher download speeds</td>\n",
       "    </tr>\n",
       "    <tr>\n",
       "      <th>6683</th>\n",
       "      <td>3033-TMYG</td>\n",
       "      <td>Yes</td>\n",
       "      <td>1</td>\n",
       "      <td>7</td>\n",
       "      <td>15.0</td>\n",
       "      <td>...</td>\n",
       "      <td>Direct Debit</td>\n",
       "      <td>20</td>\n",
       "      <td>20</td>\n",
       "      <td>Competitor</td>\n",
       "      <td>Competitor offered higher download speeds</td>\n",
       "    </tr>\n",
       "    <tr>\n",
       "      <th>6684</th>\n",
       "      <td>7029-XDVM</td>\n",
       "      <td>Yes</td>\n",
       "      <td>6</td>\n",
       "      <td>20</td>\n",
       "      <td>46.9</td>\n",
       "      <td>...</td>\n",
       "      <td>Paper Check</td>\n",
       "      <td>18</td>\n",
       "      <td>108</td>\n",
       "      <td>Competitor</td>\n",
       "      <td>Competitor made better offer</td>\n",
       "    </tr>\n",
       "    <tr>\n",
       "      <th>6685</th>\n",
       "      <td>6614-NAJG</td>\n",
       "      <td>Yes</td>\n",
       "      <td>3</td>\n",
       "      <td>6</td>\n",
       "      <td>15.4</td>\n",
       "      <td>...</td>\n",
       "      <td>Credit Card</td>\n",
       "      <td>15</td>\n",
       "      <td>46</td>\n",
       "      <td>Attitude</td>\n",
       "      <td>Attitude of support person</td>\n",
       "    </tr>\n",
       "    <tr>\n",
       "      <th>6686</th>\n",
       "      <td>5104-AGDX</td>\n",
       "      <td>Yes</td>\n",
       "      <td>1</td>\n",
       "      <td>7</td>\n",
       "      <td>15.0</td>\n",
       "      <td>...</td>\n",
       "      <td>Direct Debit</td>\n",
       "      <td>9</td>\n",
       "      <td>9</td>\n",
       "      <td>Competitor</td>\n",
       "      <td>Competitor made better offer</td>\n",
       "    </tr>\n",
       "  </tbody>\n",
       "</table>\n",
       "<p>6687 rows × 29 columns</p>\n",
       "</div>"
      ],
      "text/plain": [
       "     Customer ID Churn Label  Account Length (in months)  Local Calls  \\\n",
       "0      4444-BZPU          No                           1            3   \n",
       "1      5676-PTZX          No                          33          179   \n",
       "2      8532-ZEKQ          No                          44           82   \n",
       "3      1314-SMPJ          No                          10           47   \n",
       "4      2956-TXCJ          No                          62          184   \n",
       "...          ...         ...                         ...          ...   \n",
       "6682   2940-QHVU         Yes                           3            6   \n",
       "6683   3033-TMYG         Yes                           1            7   \n",
       "6684   7029-XDVM         Yes                           6           20   \n",
       "6685   6614-NAJG         Yes                           3            6   \n",
       "6686   5104-AGDX         Yes                           1            7   \n",
       "\n",
       "      Local Mins  ...  Payment Method  Monthly Charge Total Charges  \\\n",
       "0            8.0  ...    Direct Debit              10            10   \n",
       "1          431.3  ...     Paper Check              21           703   \n",
       "2          217.6  ...    Direct Debit              23          1014   \n",
       "3          111.6  ...     Paper Check              17           177   \n",
       "4          621.2  ...    Direct Debit              28          1720   \n",
       "...          ...  ...             ...             ...           ...   \n",
       "6682        16.8  ...     Paper Check              19            52   \n",
       "6683        15.0  ...    Direct Debit              20            20   \n",
       "6684        46.9  ...     Paper Check              18           108   \n",
       "6685        15.4  ...     Credit Card              15            46   \n",
       "6686        15.0  ...    Direct Debit               9             9   \n",
       "\n",
       "     Churn Category                               Churn Reason  \n",
       "0               NaN                                        NaN  \n",
       "1               NaN                                        NaN  \n",
       "2               NaN                                        NaN  \n",
       "3               NaN                                        NaN  \n",
       "4               NaN                                        NaN  \n",
       "...             ...                                        ...  \n",
       "6682     Competitor  Competitor offered higher download speeds  \n",
       "6683     Competitor  Competitor offered higher download speeds  \n",
       "6684     Competitor               Competitor made better offer  \n",
       "6685       Attitude                 Attitude of support person  \n",
       "6686     Competitor               Competitor made better offer  \n",
       "\n",
       "[6687 rows x 29 columns]"
      ]
     },
     "execution_count": 14,
     "metadata": {},
     "output_type": "execute_result"
    }
   ],
   "source": [
    "data"
   ]
  },
  {
   "cell_type": "code",
   "execution_count": 15,
   "id": "31865de7",
   "metadata": {},
   "outputs": [
    {
     "data": {
      "text/plain": [
       "(6687, 29)"
      ]
     },
     "execution_count": 15,
     "metadata": {},
     "output_type": "execute_result"
    }
   ],
   "source": [
    "data.shape"
   ]
  },
  {
   "cell_type": "code",
   "execution_count": 16,
   "id": "a48d01b6",
   "metadata": {},
   "outputs": [
    {
     "data": {
      "text/plain": [
       "6687"
      ]
     },
     "execution_count": 16,
     "metadata": {},
     "output_type": "execute_result"
    }
   ],
   "source": [
    "len(data)"
   ]
  },
  {
   "cell_type": "code",
   "execution_count": 18,
   "id": "955b3d68",
   "metadata": {},
   "outputs": [
    {
     "data": {
      "text/html": [
       "<div>\n",
       "<style scoped>\n",
       "    .dataframe tbody tr th:only-of-type {\n",
       "        vertical-align: middle;\n",
       "    }\n",
       "\n",
       "    .dataframe tbody tr th {\n",
       "        vertical-align: top;\n",
       "    }\n",
       "\n",
       "    .dataframe thead th {\n",
       "        text-align: right;\n",
       "    }\n",
       "</style>\n",
       "<table border=\"1\" class=\"dataframe\">\n",
       "  <thead>\n",
       "    <tr style=\"text-align: right;\">\n",
       "      <th></th>\n",
       "      <th>Customer ID</th>\n",
       "      <th>Churn Label</th>\n",
       "      <th>Account Length (in months)</th>\n",
       "      <th>Local Calls</th>\n",
       "      <th>Local Mins</th>\n",
       "      <th>Intl Calls</th>\n",
       "      <th>Intl Mins</th>\n",
       "      <th>Intl Active</th>\n",
       "      <th>Intl Plan</th>\n",
       "      <th>Extra International Charges</th>\n",
       "      <th>Customer Service Calls</th>\n",
       "      <th>Avg Monthly GB Download</th>\n",
       "      <th>Unlimited Data Plan</th>\n",
       "      <th>Extra Data Charges</th>\n",
       "      <th>State</th>\n",
       "      <th>Phone Number</th>\n",
       "      <th>Gender</th>\n",
       "      <th>Age</th>\n",
       "      <th>Under 30</th>\n",
       "      <th>Senior</th>\n",
       "      <th>Group</th>\n",
       "      <th>Number of Customers in Group</th>\n",
       "      <th>Device Protection &amp; Online Backup</th>\n",
       "      <th>Contract Type</th>\n",
       "      <th>Payment Method</th>\n",
       "      <th>Monthly Charge</th>\n",
       "      <th>Total Charges</th>\n",
       "      <th>Churn Category</th>\n",
       "      <th>Churn Reason</th>\n",
       "    </tr>\n",
       "  </thead>\n",
       "  <tbody>\n",
       "    <tr>\n",
       "      <th>0</th>\n",
       "      <td>4444-BZPU</td>\n",
       "      <td>No</td>\n",
       "      <td>1</td>\n",
       "      <td>3</td>\n",
       "      <td>8.0</td>\n",
       "      <td>0.0</td>\n",
       "      <td>0.0</td>\n",
       "      <td>No</td>\n",
       "      <td>no</td>\n",
       "      <td>0.0</td>\n",
       "      <td>0</td>\n",
       "      <td>3</td>\n",
       "      <td>Yes</td>\n",
       "      <td>0</td>\n",
       "      <td>KS</td>\n",
       "      <td>382-4657</td>\n",
       "      <td>Female</td>\n",
       "      <td>35</td>\n",
       "      <td>No</td>\n",
       "      <td>No</td>\n",
       "      <td>No</td>\n",
       "      <td>0</td>\n",
       "      <td>No</td>\n",
       "      <td>Month-to-Month</td>\n",
       "      <td>Direct Debit</td>\n",
       "      <td>10</td>\n",
       "      <td>10</td>\n",
       "      <td>NaN</td>\n",
       "      <td>NaN</td>\n",
       "    </tr>\n",
       "    <tr>\n",
       "      <th>1</th>\n",
       "      <td>5676-PTZX</td>\n",
       "      <td>No</td>\n",
       "      <td>33</td>\n",
       "      <td>179</td>\n",
       "      <td>431.3</td>\n",
       "      <td>0.0</td>\n",
       "      <td>0.0</td>\n",
       "      <td>No</td>\n",
       "      <td>no</td>\n",
       "      <td>0.0</td>\n",
       "      <td>0</td>\n",
       "      <td>3</td>\n",
       "      <td>Yes</td>\n",
       "      <td>0</td>\n",
       "      <td>OH</td>\n",
       "      <td>371-7191</td>\n",
       "      <td>Male</td>\n",
       "      <td>49</td>\n",
       "      <td>No</td>\n",
       "      <td>No</td>\n",
       "      <td>No</td>\n",
       "      <td>0</td>\n",
       "      <td>Yes</td>\n",
       "      <td>One Year</td>\n",
       "      <td>Paper Check</td>\n",
       "      <td>21</td>\n",
       "      <td>703</td>\n",
       "      <td>NaN</td>\n",
       "      <td>NaN</td>\n",
       "    </tr>\n",
       "    <tr>\n",
       "      <th>2</th>\n",
       "      <td>8532-ZEKQ</td>\n",
       "      <td>No</td>\n",
       "      <td>44</td>\n",
       "      <td>82</td>\n",
       "      <td>217.6</td>\n",
       "      <td>0.0</td>\n",
       "      <td>0.0</td>\n",
       "      <td>No</td>\n",
       "      <td>yes</td>\n",
       "      <td>0.0</td>\n",
       "      <td>0</td>\n",
       "      <td>3</td>\n",
       "      <td>Yes</td>\n",
       "      <td>0</td>\n",
       "      <td>OH</td>\n",
       "      <td>375-9999</td>\n",
       "      <td>Male</td>\n",
       "      <td>51</td>\n",
       "      <td>No</td>\n",
       "      <td>No</td>\n",
       "      <td>No</td>\n",
       "      <td>0</td>\n",
       "      <td>Yes</td>\n",
       "      <td>One Year</td>\n",
       "      <td>Direct Debit</td>\n",
       "      <td>23</td>\n",
       "      <td>1014</td>\n",
       "      <td>NaN</td>\n",
       "      <td>NaN</td>\n",
       "    </tr>\n",
       "    <tr>\n",
       "      <th>3</th>\n",
       "      <td>1314-SMPJ</td>\n",
       "      <td>No</td>\n",
       "      <td>10</td>\n",
       "      <td>47</td>\n",
       "      <td>111.6</td>\n",
       "      <td>60.0</td>\n",
       "      <td>71.0</td>\n",
       "      <td>Yes</td>\n",
       "      <td>yes</td>\n",
       "      <td>0.0</td>\n",
       "      <td>0</td>\n",
       "      <td>2</td>\n",
       "      <td>Yes</td>\n",
       "      <td>0</td>\n",
       "      <td>MO</td>\n",
       "      <td>329-9001</td>\n",
       "      <td>Female</td>\n",
       "      <td>41</td>\n",
       "      <td>No</td>\n",
       "      <td>No</td>\n",
       "      <td>No</td>\n",
       "      <td>0</td>\n",
       "      <td>No</td>\n",
       "      <td>Month-to-Month</td>\n",
       "      <td>Paper Check</td>\n",
       "      <td>17</td>\n",
       "      <td>177</td>\n",
       "      <td>NaN</td>\n",
       "      <td>NaN</td>\n",
       "    </tr>\n",
       "    <tr>\n",
       "      <th>4</th>\n",
       "      <td>2956-TXCJ</td>\n",
       "      <td>No</td>\n",
       "      <td>62</td>\n",
       "      <td>184</td>\n",
       "      <td>621.2</td>\n",
       "      <td>310.0</td>\n",
       "      <td>694.4</td>\n",
       "      <td>Yes</td>\n",
       "      <td>yes</td>\n",
       "      <td>0.0</td>\n",
       "      <td>0</td>\n",
       "      <td>3</td>\n",
       "      <td>Yes</td>\n",
       "      <td>0</td>\n",
       "      <td>WV</td>\n",
       "      <td>330-8173</td>\n",
       "      <td>Male</td>\n",
       "      <td>51</td>\n",
       "      <td>No</td>\n",
       "      <td>No</td>\n",
       "      <td>No</td>\n",
       "      <td>0</td>\n",
       "      <td>No</td>\n",
       "      <td>One Year</td>\n",
       "      <td>Direct Debit</td>\n",
       "      <td>28</td>\n",
       "      <td>1720</td>\n",
       "      <td>NaN</td>\n",
       "      <td>NaN</td>\n",
       "    </tr>\n",
       "  </tbody>\n",
       "</table>\n",
       "</div>"
      ],
      "text/plain": [
       "  Customer ID Churn Label  Account Length (in months)  Local Calls  \\\n",
       "0   4444-BZPU          No                           1            3   \n",
       "1   5676-PTZX          No                          33          179   \n",
       "2   8532-ZEKQ          No                          44           82   \n",
       "3   1314-SMPJ          No                          10           47   \n",
       "4   2956-TXCJ          No                          62          184   \n",
       "\n",
       "   Local Mins  Intl Calls  Intl Mins Intl Active Intl Plan  \\\n",
       "0         8.0         0.0        0.0          No        no   \n",
       "1       431.3         0.0        0.0          No        no   \n",
       "2       217.6         0.0        0.0          No       yes   \n",
       "3       111.6        60.0       71.0         Yes       yes   \n",
       "4       621.2       310.0      694.4         Yes       yes   \n",
       "\n",
       "   Extra International Charges  Customer Service Calls  \\\n",
       "0                          0.0                       0   \n",
       "1                          0.0                       0   \n",
       "2                          0.0                       0   \n",
       "3                          0.0                       0   \n",
       "4                          0.0                       0   \n",
       "\n",
       "   Avg Monthly GB Download Unlimited Data Plan  Extra Data Charges State  \\\n",
       "0                        3                 Yes                   0    KS   \n",
       "1                        3                 Yes                   0    OH   \n",
       "2                        3                 Yes                   0    OH   \n",
       "3                        2                 Yes                   0    MO   \n",
       "4                        3                 Yes                   0    WV   \n",
       "\n",
       "  Phone Number  Gender  Age Under 30 Senior Group  \\\n",
       "0     382-4657  Female   35       No     No    No   \n",
       "1     371-7191    Male   49       No     No    No   \n",
       "2     375-9999    Male   51       No     No    No   \n",
       "3     329-9001  Female   41       No     No    No   \n",
       "4     330-8173    Male   51       No     No    No   \n",
       "\n",
       "   Number of Customers in Group Device Protection & Online Backup  \\\n",
       "0                             0                                No   \n",
       "1                             0                               Yes   \n",
       "2                             0                               Yes   \n",
       "3                             0                                No   \n",
       "4                             0                                No   \n",
       "\n",
       "    Contract Type Payment Method  Monthly Charge  Total Charges  \\\n",
       "0  Month-to-Month   Direct Debit              10             10   \n",
       "1        One Year    Paper Check              21            703   \n",
       "2        One Year   Direct Debit              23           1014   \n",
       "3  Month-to-Month    Paper Check              17            177   \n",
       "4        One Year   Direct Debit              28           1720   \n",
       "\n",
       "  Churn Category Churn Reason  \n",
       "0            NaN          NaN  \n",
       "1            NaN          NaN  \n",
       "2            NaN          NaN  \n",
       "3            NaN          NaN  \n",
       "4            NaN          NaN  "
      ]
     },
     "execution_count": 18,
     "metadata": {},
     "output_type": "execute_result"
    }
   ],
   "source": [
    "pd.set_option('display.max_columns', 29)\n",
    "data.head()"
   ]
  },
  {
   "cell_type": "code",
   "execution_count": 24,
   "id": "7ec9ac7d",
   "metadata": {},
   "outputs": [],
   "source": [
    "# summary stats details and then transpose T or transpose() to make it easier to read (swappig rows and colmns)\n",
    "details = data.describe().T"
   ]
  },
  {
   "cell_type": "code",
   "execution_count": 25,
   "id": "818dce87",
   "metadata": {},
   "outputs": [
    {
     "data": {
      "text/html": [
       "<div>\n",
       "<style scoped>\n",
       "    .dataframe tbody tr th:only-of-type {\n",
       "        vertical-align: middle;\n",
       "    }\n",
       "\n",
       "    .dataframe tbody tr th {\n",
       "        vertical-align: top;\n",
       "    }\n",
       "\n",
       "    .dataframe thead th {\n",
       "        text-align: right;\n",
       "    }\n",
       "</style>\n",
       "<table border=\"1\" class=\"dataframe\">\n",
       "  <thead>\n",
       "    <tr style=\"text-align: right;\">\n",
       "      <th></th>\n",
       "      <th>count</th>\n",
       "      <th>mean</th>\n",
       "      <th>std</th>\n",
       "      <th>min</th>\n",
       "      <th>25%</th>\n",
       "      <th>50%</th>\n",
       "      <th>75%</th>\n",
       "      <th>max</th>\n",
       "    </tr>\n",
       "  </thead>\n",
       "  <tbody>\n",
       "    <tr>\n",
       "      <th>Account Length (in months)</th>\n",
       "      <td>6687.0</td>\n",
       "      <td>32.337820</td>\n",
       "      <td>24.595689</td>\n",
       "      <td>1.0</td>\n",
       "      <td>9.0</td>\n",
       "      <td>29.0</td>\n",
       "      <td>55.00</td>\n",
       "      <td>77.0</td>\n",
       "    </tr>\n",
       "    <tr>\n",
       "      <th>Local Calls</th>\n",
       "      <td>6687.0</td>\n",
       "      <td>130.974129</td>\n",
       "      <td>121.893966</td>\n",
       "      <td>1.0</td>\n",
       "      <td>31.0</td>\n",
       "      <td>98.0</td>\n",
       "      <td>199.00</td>\n",
       "      <td>918.0</td>\n",
       "    </tr>\n",
       "    <tr>\n",
       "      <th>Local Mins</th>\n",
       "      <td>6687.0</td>\n",
       "      <td>322.752864</td>\n",
       "      <td>288.619931</td>\n",
       "      <td>4.0</td>\n",
       "      <td>76.9</td>\n",
       "      <td>250.5</td>\n",
       "      <td>498.05</td>\n",
       "      <td>1234.2</td>\n",
       "    </tr>\n",
       "    <tr>\n",
       "      <th>Intl Calls</th>\n",
       "      <td>6687.0</td>\n",
       "      <td>51.097524</td>\n",
       "      <td>103.592369</td>\n",
       "      <td>0.0</td>\n",
       "      <td>0.0</td>\n",
       "      <td>0.0</td>\n",
       "      <td>52.00</td>\n",
       "      <td>1120.0</td>\n",
       "    </tr>\n",
       "    <tr>\n",
       "      <th>Intl Mins</th>\n",
       "      <td>6687.0</td>\n",
       "      <td>130.070624</td>\n",
       "      <td>243.527828</td>\n",
       "      <td>0.0</td>\n",
       "      <td>0.0</td>\n",
       "      <td>0.0</td>\n",
       "      <td>140.40</td>\n",
       "      <td>1372.5</td>\n",
       "    </tr>\n",
       "    <tr>\n",
       "      <th>Extra International Charges</th>\n",
       "      <td>6687.0</td>\n",
       "      <td>33.641783</td>\n",
       "      <td>76.346828</td>\n",
       "      <td>0.0</td>\n",
       "      <td>0.0</td>\n",
       "      <td>0.0</td>\n",
       "      <td>16.40</td>\n",
       "      <td>585.8</td>\n",
       "    </tr>\n",
       "    <tr>\n",
       "      <th>Customer Service Calls</th>\n",
       "      <td>6687.0</td>\n",
       "      <td>0.915657</td>\n",
       "      <td>1.411484</td>\n",
       "      <td>0.0</td>\n",
       "      <td>0.0</td>\n",
       "      <td>0.0</td>\n",
       "      <td>2.00</td>\n",
       "      <td>5.0</td>\n",
       "    </tr>\n",
       "    <tr>\n",
       "      <th>Avg Monthly GB Download</th>\n",
       "      <td>6687.0</td>\n",
       "      <td>6.696276</td>\n",
       "      <td>7.454339</td>\n",
       "      <td>0.0</td>\n",
       "      <td>1.0</td>\n",
       "      <td>5.0</td>\n",
       "      <td>9.00</td>\n",
       "      <td>43.0</td>\n",
       "    </tr>\n",
       "    <tr>\n",
       "      <th>Extra Data Charges</th>\n",
       "      <td>6687.0</td>\n",
       "      <td>3.374458</td>\n",
       "      <td>12.565309</td>\n",
       "      <td>0.0</td>\n",
       "      <td>0.0</td>\n",
       "      <td>0.0</td>\n",
       "      <td>0.00</td>\n",
       "      <td>99.0</td>\n",
       "    </tr>\n",
       "    <tr>\n",
       "      <th>Age</th>\n",
       "      <td>6687.0</td>\n",
       "      <td>47.448632</td>\n",
       "      <td>16.969893</td>\n",
       "      <td>19.0</td>\n",
       "      <td>33.0</td>\n",
       "      <td>47.0</td>\n",
       "      <td>60.00</td>\n",
       "      <td>85.0</td>\n",
       "    </tr>\n",
       "    <tr>\n",
       "      <th>Number of Customers in Group</th>\n",
       "      <td>6687.0</td>\n",
       "      <td>0.837894</td>\n",
       "      <td>1.700780</td>\n",
       "      <td>0.0</td>\n",
       "      <td>0.0</td>\n",
       "      <td>0.0</td>\n",
       "      <td>0.00</td>\n",
       "      <td>6.0</td>\n",
       "    </tr>\n",
       "    <tr>\n",
       "      <th>Monthly Charge</th>\n",
       "      <td>6687.0</td>\n",
       "      <td>31.030357</td>\n",
       "      <td>16.288147</td>\n",
       "      <td>5.0</td>\n",
       "      <td>16.0</td>\n",
       "      <td>31.0</td>\n",
       "      <td>43.00</td>\n",
       "      <td>78.0</td>\n",
       "    </tr>\n",
       "    <tr>\n",
       "      <th>Total Charges</th>\n",
       "      <td>6687.0</td>\n",
       "      <td>1083.755645</td>\n",
       "      <td>1127.074863</td>\n",
       "      <td>6.0</td>\n",
       "      <td>181.0</td>\n",
       "      <td>647.0</td>\n",
       "      <td>1732.50</td>\n",
       "      <td>5574.0</td>\n",
       "    </tr>\n",
       "  </tbody>\n",
       "</table>\n",
       "</div>"
      ],
      "text/plain": [
       "                               count         mean          std   min    25%  \\\n",
       "Account Length (in months)    6687.0    32.337820    24.595689   1.0    9.0   \n",
       "Local Calls                   6687.0   130.974129   121.893966   1.0   31.0   \n",
       "Local Mins                    6687.0   322.752864   288.619931   4.0   76.9   \n",
       "Intl Calls                    6687.0    51.097524   103.592369   0.0    0.0   \n",
       "Intl Mins                     6687.0   130.070624   243.527828   0.0    0.0   \n",
       "Extra International Charges   6687.0    33.641783    76.346828   0.0    0.0   \n",
       "Customer Service Calls        6687.0     0.915657     1.411484   0.0    0.0   \n",
       "Avg Monthly GB Download       6687.0     6.696276     7.454339   0.0    1.0   \n",
       "Extra Data Charges            6687.0     3.374458    12.565309   0.0    0.0   \n",
       "Age                           6687.0    47.448632    16.969893  19.0   33.0   \n",
       "Number of Customers in Group  6687.0     0.837894     1.700780   0.0    0.0   \n",
       "Monthly Charge                6687.0    31.030357    16.288147   5.0   16.0   \n",
       "Total Charges                 6687.0  1083.755645  1127.074863   6.0  181.0   \n",
       "\n",
       "                                50%      75%     max  \n",
       "Account Length (in months)     29.0    55.00    77.0  \n",
       "Local Calls                    98.0   199.00   918.0  \n",
       "Local Mins                    250.5   498.05  1234.2  \n",
       "Intl Calls                      0.0    52.00  1120.0  \n",
       "Intl Mins                       0.0   140.40  1372.5  \n",
       "Extra International Charges     0.0    16.40   585.8  \n",
       "Customer Service Calls          0.0     2.00     5.0  \n",
       "Avg Monthly GB Download         5.0     9.00    43.0  \n",
       "Extra Data Charges              0.0     0.00    99.0  \n",
       "Age                            47.0    60.00    85.0  \n",
       "Number of Customers in Group    0.0     0.00     6.0  \n",
       "Monthly Charge                 31.0    43.00    78.0  \n",
       "Total Charges                 647.0  1732.50  5574.0  "
      ]
     },
     "execution_count": 25,
     "metadata": {},
     "output_type": "execute_result"
    }
   ],
   "source": [
    "details"
   ]
  },
  {
   "cell_type": "code",
   "execution_count": 26,
   "id": "e2ab6678",
   "metadata": {},
   "outputs": [
    {
     "name": "stdout",
     "output_type": "stream",
     "text": [
      "<class 'pandas.core.frame.DataFrame'>\n",
      "RangeIndex: 6687 entries, 0 to 6686\n",
      "Data columns (total 29 columns):\n",
      " #   Column                             Non-Null Count  Dtype  \n",
      "---  ------                             --------------  -----  \n",
      " 0   Customer ID                        6687 non-null   object \n",
      " 1   Churn Label                        6687 non-null   object \n",
      " 2   Account Length (in months)         6687 non-null   int64  \n",
      " 3   Local Calls                        6687 non-null   int64  \n",
      " 4   Local Mins                         6687 non-null   float64\n",
      " 5   Intl Calls                         6687 non-null   float64\n",
      " 6   Intl Mins                          6687 non-null   float64\n",
      " 7   Intl Active                        6687 non-null   object \n",
      " 8   Intl Plan                          6687 non-null   object \n",
      " 9   Extra International Charges        6687 non-null   float64\n",
      " 10  Customer Service Calls             6687 non-null   int64  \n",
      " 11  Avg Monthly GB Download            6687 non-null   int64  \n",
      " 12  Unlimited Data Plan                6687 non-null   object \n",
      " 13  Extra Data Charges                 6687 non-null   int64  \n",
      " 14  State                              6687 non-null   object \n",
      " 15  Phone Number                       6687 non-null   object \n",
      " 16  Gender                             6687 non-null   object \n",
      " 17  Age                                6687 non-null   int64  \n",
      " 18  Under 30                           6687 non-null   object \n",
      " 19  Senior                             6687 non-null   object \n",
      " 20  Group                              6687 non-null   object \n",
      " 21  Number of Customers in Group       6687 non-null   int64  \n",
      " 22  Device Protection & Online Backup  6687 non-null   object \n",
      " 23  Contract Type                      6687 non-null   object \n",
      " 24  Payment Method                     6687 non-null   object \n",
      " 25  Monthly Charge                     6687 non-null   int64  \n",
      " 26  Total Charges                      6687 non-null   int64  \n",
      " 27  Churn Category                     1769 non-null   object \n",
      " 28  Churn Reason                       1769 non-null   object \n",
      "dtypes: float64(4), int64(9), object(16)\n",
      "memory usage: 1.5+ MB\n"
     ]
    }
   ],
   "source": [
    "data.info()"
   ]
  },
  {
   "cell_type": "code",
   "execution_count": 27,
   "id": "d5f4cefd",
   "metadata": {},
   "outputs": [
    {
     "name": "stdout",
     "output_type": "stream",
     "text": [
      "<class 'pandas.core.frame.DataFrame'>\n",
      "Index: 13 entries, Account Length (in months) to Total Charges\n",
      "Data columns (total 8 columns):\n",
      " #   Column  Non-Null Count  Dtype  \n",
      "---  ------  --------------  -----  \n",
      " 0   count   13 non-null     float64\n",
      " 1   mean    13 non-null     float64\n",
      " 2   std     13 non-null     float64\n",
      " 3   min     13 non-null     float64\n",
      " 4   25%     13 non-null     float64\n",
      " 5   50%     13 non-null     float64\n",
      " 6   75%     13 non-null     float64\n",
      " 7   max     13 non-null     float64\n",
      "dtypes: float64(8)\n",
      "memory usage: 1.5+ KB\n"
     ]
    }
   ],
   "source": [
    "details.info()"
   ]
  },
  {
   "cell_type": "code",
   "execution_count": 28,
   "id": "0524b8ec",
   "metadata": {},
   "outputs": [],
   "source": [
    "# Categorical (say, Intl Plan) column that contain Yes or No\n",
    "data['Intl Plan'] = data['Intl Plan'].map(str.capitalize)"
   ]
  },
  {
   "cell_type": "code",
   "execution_count": 31,
   "id": "965a1bfa",
   "metadata": {},
   "outputs": [
    {
     "data": {
      "text/html": [
       "<div>\n",
       "<style scoped>\n",
       "    .dataframe tbody tr th:only-of-type {\n",
       "        vertical-align: middle;\n",
       "    }\n",
       "\n",
       "    .dataframe tbody tr th {\n",
       "        vertical-align: top;\n",
       "    }\n",
       "\n",
       "    .dataframe thead th {\n",
       "        text-align: right;\n",
       "    }\n",
       "</style>\n",
       "<table border=\"1\" class=\"dataframe\">\n",
       "  <thead>\n",
       "    <tr style=\"text-align: right;\">\n",
       "      <th></th>\n",
       "      <th>Churn Category</th>\n",
       "      <th>Churn Reason</th>\n",
       "    </tr>\n",
       "    <tr>\n",
       "      <th>Churn Label</th>\n",
       "      <th></th>\n",
       "      <th></th>\n",
       "    </tr>\n",
       "  </thead>\n",
       "  <tbody>\n",
       "    <tr>\n",
       "      <th>No</th>\n",
       "      <td>0</td>\n",
       "      <td>0</td>\n",
       "    </tr>\n",
       "    <tr>\n",
       "      <th>Yes</th>\n",
       "      <td>1769</td>\n",
       "      <td>1769</td>\n",
       "    </tr>\n",
       "  </tbody>\n",
       "</table>\n",
       "</div>"
      ],
      "text/plain": [
       "             Churn Category  Churn Reason\n",
       "Churn Label                              \n",
       "No                        0             0\n",
       "Yes                    1769          1769"
      ]
     },
     "execution_count": 31,
     "metadata": {},
     "output_type": "execute_result"
    }
   ],
   "source": [
    "# Churn Category and Churn Reason shows NaN\n",
    "data.groupby('Churn Label')[['Churn Category', 'Churn Reason']].count()"
   ]
  },
  {
   "cell_type": "code",
   "execution_count": 34,
   "id": "1fa5d531",
   "metadata": {},
   "outputs": [
    {
     "name": "stdout",
     "output_type": "stream",
     "text": [
      "Churn Categories for No customers: [nan]\n",
      "Churn Reasons for No customers:    [nan]\n",
      "\n",
      "Churn Categories for Yes customers: [nan 'Competitor' 'Other' 'Attitude' 'Dissatisfaction' 'Price']\n",
      "Churn Reasons for Yes customers:    [nan 'Competitor made better offer' 'Moved'\n",
      " 'Competitor had better devices'\n",
      " 'Competitor offered higher download speeds' 'Attitude of support person'\n",
      " 'Network reliability' \"Don't know\" 'Service dissatisfaction'\n",
      " 'Product dissatisfaction' 'Poor expertise of online support'\n",
      " 'Price too high' 'Limited range of services'\n",
      " 'Lack of affordable download/upload speed' 'Long distance charges'\n",
      " 'Competitor offered more data' 'Attitude of service provider'\n",
      " 'Poor expertise of phone support' 'Extra data charges' 'Deceased'\n",
      " 'Lack of self-service on Website']\n",
      "\n"
     ]
    }
   ],
   "source": [
    "# Find the reason and category for churn rate\n",
    "grouped = data.groupby('Churn Label')\n",
    "for label, group in grouped:\n",
    "    churn_c = group['Churn Category'].unique()\n",
    "    churn_r = group['Churn Reason'].unique()\n",
    "    print(f\"Churn Categories for {label} customers: {churn_c}\")\n",
    "    print(f\"Churn Reasons for {label} customers:    {churn_r}\\n\")"
   ]
  },
  {
   "cell_type": "code",
   "execution_count": 36,
   "id": "888857e2",
   "metadata": {},
   "outputs": [],
   "source": [
    "# Find why NULL on Churn category and churn reason\n",
    "Fill_Null = {'Churn Category': 'Other', 'Churn Reason': \"Don't know\"}\n",
    "data[\n",
    "    (data['Churn Label'] == 'Yes') & (data['Churn Category'].isna())\n",
    "] = data[\n",
    "    (data['Churn Label'] == 'Yes') & (data['Churn Category'].isna())\n",
    "].fillna(value=Fill_Null)"
   ]
  },
  {
   "cell_type": "code",
   "execution_count": 37,
   "id": "9968cbf4",
   "metadata": {},
   "outputs": [],
   "source": [
    "# Combine senior and under 30 colmn into one\n",
    "def categorize_age(row):\n",
    "    if row['Under 30'] == 'Yes' and row['Senior'] == 'No':\n",
    "        return 'Under 30'\n",
    "    elif row['Under 30'] == 'No' and row['Senior'] == 'Yes':\n",
    "        return 'Senior'\n",
    "    else:\n",
    "        return 'In between'\n",
    "\n",
    "data['Age Category'] = data.apply(categorize_age, axis=1)\n",
    "data.drop(columns=['Under 30', 'Senior'], inplace=True)"
   ]
  },
  {
   "cell_type": "code",
   "execution_count": 38,
   "id": "a2cdc283",
   "metadata": {},
   "outputs": [],
   "source": [
    "# Intl calls shows float or having decimal number, we will truncate it to whole number and change dtype to int\n",
    "data['Intl Calls'] = np.trunc(data['Intl Calls']).astype('int64')"
   ]
  },
  {
   "cell_type": "code",
   "execution_count": 39,
   "id": "a59c84d6",
   "metadata": {},
   "outputs": [
    {
     "name": "stdout",
     "output_type": "stream",
     "text": [
      "<class 'pandas.core.frame.DataFrame'>\n",
      "RangeIndex: 6687 entries, 0 to 6686\n",
      "Data columns (total 28 columns):\n",
      " #   Column                             Non-Null Count  Dtype  \n",
      "---  ------                             --------------  -----  \n",
      " 0   Customer ID                        6687 non-null   object \n",
      " 1   Churn Label                        6687 non-null   object \n",
      " 2   Account Length (in months)         6687 non-null   int64  \n",
      " 3   Local Calls                        6687 non-null   int64  \n",
      " 4   Local Mins                         6687 non-null   float64\n",
      " 5   Intl Calls                         6687 non-null   int64  \n",
      " 6   Intl Mins                          6687 non-null   float64\n",
      " 7   Intl Active                        6687 non-null   object \n",
      " 8   Intl Plan                          6687 non-null   object \n",
      " 9   Extra International Charges        6687 non-null   float64\n",
      " 10  Customer Service Calls             6687 non-null   int64  \n",
      " 11  Avg Monthly GB Download            6687 non-null   int64  \n",
      " 12  Unlimited Data Plan                6687 non-null   object \n",
      " 13  Extra Data Charges                 6687 non-null   int64  \n",
      " 14  State                              6687 non-null   object \n",
      " 15  Phone Number                       6687 non-null   object \n",
      " 16  Gender                             6687 non-null   object \n",
      " 17  Age                                6687 non-null   int64  \n",
      " 18  Group                              6687 non-null   object \n",
      " 19  Number of Customers in Group       6687 non-null   int64  \n",
      " 20  Device Protection & Online Backup  6687 non-null   object \n",
      " 21  Contract Type                      6687 non-null   object \n",
      " 22  Payment Method                     6687 non-null   object \n",
      " 23  Monthly Charge                     6687 non-null   int64  \n",
      " 24  Total Charges                      6687 non-null   int64  \n",
      " 25  Churn Category                     1796 non-null   object \n",
      " 26  Churn Reason                       1796 non-null   object \n",
      " 27  Age Category                       6687 non-null   object \n",
      "dtypes: float64(3), int64(10), object(15)\n",
      "memory usage: 1.4+ MB\n"
     ]
    }
   ],
   "source": [
    "data.info()"
   ]
  },
  {
   "cell_type": "code",
   "execution_count": 40,
   "id": "8a0dc310",
   "metadata": {},
   "outputs": [],
   "source": [
    "# Exploratory Data Analysis EDA"
   ]
  },
  {
   "cell_type": "code",
   "execution_count": 41,
   "id": "6acc362a",
   "metadata": {},
   "outputs": [
    {
     "name": "stdout",
     "output_type": "stream",
     "text": [
      "Churn Rate: 26.86%\n"
     ]
    }
   ],
   "source": [
    "# Overall Churn rate Calculation\n",
    "# Count the number of churned and non-churned customers\n",
    "churn_counts = data['Churn Label'].value_counts()\n",
    "\n",
    "# Extract the count of churned customers\n",
    "churned_count = churn_counts['Yes']\n",
    "\n",
    "# Extract the count of non-churned customers\n",
    "non_churned_count = churn_counts.get('No', 0)\n",
    "\n",
    "# Calculate the churn rate\n",
    "total_customers = churned_count + non_churned_count\n",
    "churn_rate = (churned_count / total_customers) * 100\n",
    "\n",
    "# Round the churn rate to two decimal places\n",
    "churn_rate_rounded = round(churn_rate, 2)\n",
    "\n",
    "# Print the churn rate\n",
    "print(f'Churn Rate: {churn_rate_rounded}%')"
   ]
  },
  {
   "cell_type": "code",
   "execution_count": 42,
   "id": "0eb04b5b",
   "metadata": {},
   "outputs": [],
   "source": [
    "# Churned customers dataframe\n",
    "churned_df = data[data['Churn Label'] == 'Yes']\n",
    "\n",
    "# Current customers dataframe\n",
    "current_df = data[data['Churn Label'] == 'No']"
   ]
  },
  {
   "cell_type": "code",
   "execution_count": 50,
   "id": "99935086",
   "metadata": {},
   "outputs": [
    {
     "data": {
      "image/png": "[encoded data removed]",
      "text/plain": [
       "<Figure size 640x480 with 1 Axes>"
      ]
     },
     "metadata": {},
     "output_type": "display_data"
    }
   ],
   "source": [
    "# Plot the histogram\n",
    "sns.histplot(data['Age'], binwidth=5, color='blue', kde=True)\n",
    "\n",
    "plt.title('All Current Customers Ages')\n",
    "plt.show()"
   ]
  },
  {
   "cell_type": "code",
   "execution_count": 51,
   "id": "ce21e6c6",
   "metadata": {},
   "outputs": [
    {
     "data": {
      "image/png": "[encoded data removed]",
      "text/plain": [
       "<Figure size 640x480 with 1 Axes>"
      ]
     },
     "metadata": {},
     "output_type": "display_data"
    }
   ],
   "source": [
    "# Plot the histogram\n",
    "sns.histplot(churned_df['Age'], binwidth=5, color='blue', kde=True)\n",
    "\n",
    "plt.title('All Churned Customers Ages')\n",
    "plt.show()"
   ]
  },
  {
   "cell_type": "code",
   "execution_count": 52,
   "id": "0d3e7954",
   "metadata": {},
   "outputs": [
    {
     "data": {
      "image/png": "[encoded data removed]",
      "text/plain": [
       "<Figure size 640x480 with 1 Axes>"
      ]
     },
     "metadata": {},
     "output_type": "display_data"
    }
   ],
   "source": [
    "# Plot the histogram\n",
    "sns.histplot(current_df['Age'], binwidth=5, color='blue', kde=True)\n",
    "\n",
    "plt.title('All Current Customers Ages')\n",
    "plt.show()"
   ]
  },
  {
   "cell_type": "code",
   "execution_count": 53,
   "id": "5fc8807f",
   "metadata": {},
   "outputs": [
    {
     "data": {
      "text/plain": [
       "In between    1017\n",
       "Senior         483\n",
       "Under 30       296\n",
       "Name: Age Category, dtype: int64"
      ]
     },
     "execution_count": 53,
     "metadata": {},
     "output_type": "execute_result"
    }
   ],
   "source": [
    "churned_df['Age Category'].value_counts()"
   ]
  },
  {
   "cell_type": "code",
   "execution_count": 54,
   "id": "e024dae5",
   "metadata": {},
   "outputs": [
    {
     "data": {
      "text/plain": [
       "In between    3127\n",
       "Under 30       991\n",
       "Senior         773\n",
       "Name: Age Category, dtype: int64"
      ]
     },
     "execution_count": 54,
     "metadata": {},
     "output_type": "execute_result"
    }
   ],
   "source": [
    "current_df['Age Category'].value_counts()"
   ]
  },
  {
   "cell_type": "code",
   "execution_count": 55,
   "id": "c4723861",
   "metadata": {},
   "outputs": [
    {
     "data": {
      "image/png": "[encoded data removed]",
      "text/plain": [
       "<Figure size 640x480 with 1 Axes>"
      ]
     },
     "metadata": {},
     "output_type": "display_data"
    }
   ],
   "source": [
    "Age_Cate = {'Under 30': 'blue', 'In between': 'green', 'Senior': 'red'}\n",
    "\n",
    "# Plot the countplot\n",
    "sns.countplot(data=data,\n",
    "              x='Churn Label',\n",
    "              hue='Age Category',\n",
    "              palette=Age_Cate)\n",
    "\n",
    "plt.title('Current and Churned Customers Age Categories Count')\n",
    "\n",
    "plt.legend(title='Age Category')\n",
    "\n",
    "plt.xlabel('Churned')\n",
    "\n",
    "plt.show()"
   ]
  },
  {
   "cell_type": "code",
   "execution_count": 56,
   "id": "792d3d64",
   "metadata": {},
   "outputs": [
    {
     "data": {
      "text/plain": [
       "Male                 897\n",
       "Female               897\n",
       "Prefer not to say      2\n",
       "Name: Gender, dtype: int64"
      ]
     },
     "execution_count": 56,
     "metadata": {},
     "output_type": "execute_result"
    }
   ],
   "source": [
    "churned_df['Gender'].value_counts()"
   ]
  },
  {
   "cell_type": "code",
   "execution_count": 57,
   "id": "15774213",
   "metadata": {},
   "outputs": [
    {
     "data": {
      "text/plain": [
       "Male                 2482\n",
       "Female               2404\n",
       "Prefer not to say       5\n",
       "Name: Gender, dtype: int64"
      ]
     },
     "execution_count": 57,
     "metadata": {},
     "output_type": "execute_result"
    }
   ],
   "source": [
    "current_df['Gender'].value_counts()"
   ]
  },
  {
   "cell_type": "code",
   "execution_count": 61,
   "id": "9132e533",
   "metadata": {},
   "outputs": [
    {
     "data": {
      "image/png": "[encoded data removed]",
      "text/plain": [
       "<Figure size 640x480 with 1 Axes>"
      ]
     },
     "metadata": {},
     "output_type": "display_data"
    }
   ],
   "source": [
    "sns.countplot(data=churned_df,\n",
    "              x='Gender', hue='Gender')\n",
    "\n",
    "plt.title('Churned Customer Count By Gender')\n",
    "\n",
    "plt.show()"
   ]
  },
  {
   "cell_type": "code",
   "execution_count": 62,
   "id": "ba304acb",
   "metadata": {},
   "outputs": [
    {
     "data": {
      "image/png": "[encoded data removed]",
      "text/plain": [
       "<Figure size 640x480 with 1 Axes>"
      ]
     },
     "metadata": {},
     "output_type": "display_data"
    }
   ],
   "source": [
    "sns.countplot(data=current_df,\n",
    "              x='Gender', hue='Gender')\n",
    "\n",
    "plt.title('Churned Customer Count By Gender')\n",
    "\n",
    "plt.show()"
   ]
  },
  {
   "cell_type": "code",
   "execution_count": 63,
   "id": "536187c2",
   "metadata": {},
   "outputs": [
    {
     "name": "stdout",
     "output_type": "stream",
     "text": [
      "WV    57\n",
      "OH    55\n",
      "OR    48\n",
      "MD    46\n",
      "AL    46\n",
      "MT    43\n",
      "CA    43\n",
      "IN    42\n",
      "TX    42\n",
      "VA    42\n",
      "ID    41\n",
      "MI    40\n",
      "NE    40\n",
      "VT    39\n",
      "WI    39\n",
      "NY    39\n",
      "MN    38\n",
      "WY    38\n",
      "CT    38\n",
      "NJ    37\n",
      "MS    37\n",
      "DE    37\n",
      "UT    36\n",
      "KS    36\n",
      "MO    36\n",
      "NH    36\n",
      "SC    36\n",
      "KY    36\n",
      "NV    36\n",
      "IL    33\n",
      "RI    33\n",
      "MA    33\n",
      "ND    31\n",
      "PA    30\n",
      "AK    30\n",
      "AZ    30\n",
      "NM    30\n",
      "WA    29\n",
      "ME    29\n",
      "CO    29\n",
      "HI    28\n",
      "NC    28\n",
      "SD    27\n",
      "AR    27\n",
      "FL    27\n",
      "LA    25\n",
      "GA    25\n",
      "OK    24\n",
      "IA    24\n",
      "TN    24\n",
      "DC    21\n",
      "Name: State, dtype: int64\n"
     ]
    }
   ],
   "source": [
    "# State or customer location wise churn rate count\n",
    "state_churned_counts = churned_df['State'].value_counts().sort_values(ascending=False)\n",
    "print(state_churned_counts)"
   ]
  },
  {
   "cell_type": "code",
   "execution_count": 67,
   "id": "10dc84f8",
   "metadata": {},
   "outputs": [
    {
     "name": "stdout",
     "output_type": "stream",
     "text": [
      "AK    28.85\n",
      "AL    28.57\n",
      "AR    24.55\n",
      "AZ    23.44\n",
      "CA    63.24\n",
      "CO    21.97\n",
      "CT    25.68\n",
      "DC    19.44\n",
      "DE    30.33\n",
      "FL    21.26\n",
      "GA    23.15\n",
      "HI    26.42\n",
      "IA    26.67\n",
      "ID    27.89\n",
      "IL    28.45\n",
      "IN    29.37\n",
      "KS    25.53\n",
      "KY    30.51\n",
      "LA    24.27\n",
      "MA    25.19\n",
      "MD    32.86\n",
      "ME    23.39\n",
      "MI    27.40\n",
      "MN    22.62\n",
      "MO    28.35\n",
      "MS    28.46\n",
      "MT    31.39\n",
      "NC    20.59\n",
      "ND    25.00\n",
      "NE    32.79\n",
      "NH    32.14\n",
      "NJ    27.01\n",
      "NM    24.19\n",
      "NV    27.27\n",
      "NY    23.35\n",
      "OH    34.81\n",
      "OK    19.51\n",
      "OR    30.77\n",
      "PA    33.33\n",
      "RI    25.19\n",
      "SC    30.00\n",
      "SD    22.50\n",
      "TN    22.64\n",
      "TX    28.97\n",
      "UT    25.00\n",
      "VA    27.10\n",
      "VT    26.53\n",
      "WA    21.97\n",
      "WI    25.00\n",
      "WV    26.76\n",
      "WY    24.68\n",
      "Name: State, dtype: float64\n"
     ]
    }
   ],
   "source": [
    "# Churn rate for each state calculation\n",
    "states = data['State'].value_counts().sort_index(ascending=True)\n",
    "sChurnRate = round((state_churned_counts / states) * 100, 2)\n",
    "print(sChurnRate)"
   ]
  },
  {
   "cell_type": "code",
   "execution_count": 68,
   "id": "5a67e20d",
   "metadata": {},
   "outputs": [
    {
     "name": "stdout",
     "output_type": "stream",
     "text": [
      "Average of state churn rate: 27.18\n",
      "Median of state churn rate:  26.53\n",
      "Maximum value of state churn rate: 63.24\n",
      "Minimum value of state churn rate: 19.44\n"
     ]
    }
   ],
   "source": [
    "print(f\"Average of state churn rate: {round(np.mean(sChurnRate), 2)}\")\n",
    "print(f\"Median of state churn rate:  {round(np.median(sChurnRate), 2)}\")\n",
    "print(f\"Maximum value of state churn rate: {sChurnRate.max()}\")\n",
    "print(f\"Minimum value of state churn rate: {sChurnRate.min()}\")"
   ]
  },
  {
   "cell_type": "code",
   "execution_count": 71,
   "id": "35e19d18",
   "metadata": {},
   "outputs": [
    {
     "data": {
      "image/png": "[encoded data removed]",
      "text/plain": [
       "<Figure size 640x480 with 1 Axes>"
      ]
     },
     "metadata": {},
     "output_type": "display_data"
    }
   ],
   "source": [
    "# Convert the churn rates to a list or array-like object\n",
    "state_churn_rate_list = sChurnRate.tolist()  # Convert to list if not already a list\n",
    "\n",
    "sns.histplot(data=state_churn_rate_list, color='red')\n",
    "\n",
    "plt.xlabel('Churn Rate')\n",
    "\n",
    "plt.title('All States Churn Rate Distribution Chart')\n",
    "\n",
    "plt.show()"
   ]
  },
  {
   "cell_type": "code",
   "execution_count": 72,
   "id": "d06119d1",
   "metadata": {},
   "outputs": [
    {
     "name": "stdout",
     "output_type": "stream",
     "text": [
      "State with highest churn rate: CA\n",
      "Churn rate: 63.24\n"
     ]
    }
   ],
   "source": [
    "# Find the state with the highest churn rate\n",
    "max_state = sChurnRate.idxmax()\n",
    "max_val = sChurnRate[max_state]\n",
    "\n",
    "print(f\"State with highest churn rate: {max_state}\\nChurn rate: {max_val}\")"
   ]
  },
  {
   "cell_type": "code",
   "execution_count": 73,
   "id": "e7ac72cc",
   "metadata": {},
   "outputs": [
    {
     "data": {
      "text/plain": [
       "CA     68\n",
       "PA     90\n",
       "IA     90\n",
       "LA    103\n",
       "AK    104\n",
       "HI    106\n",
       "TN    106\n",
       "DC    108\n",
       "GA    108\n",
       "AR    110\n",
       "NH    112\n",
       "IL    116\n",
       "KY    118\n",
       "SD    120\n",
       "SC    120\n",
       "DE    122\n",
       "NE    122\n",
       "OK    123\n",
       "NM    124\n",
       "ND    124\n",
       "ME    124\n",
       "FL    127\n",
       "MO    127\n",
       "AZ    128\n",
       "MS    130\n",
       "RI    131\n",
       "MA    131\n",
       "NV    132\n",
       "WA    132\n",
       "CO    132\n",
       "NC    136\n",
       "NJ    137\n",
       "MT    137\n",
       "MD    140\n",
       "KS    141\n",
       "IN    143\n",
       "UT    144\n",
       "TX    145\n",
       "MI    146\n",
       "VT    147\n",
       "ID    147\n",
       "CT    148\n",
       "WY    154\n",
       "VA    155\n",
       "WI    156\n",
       "OR    156\n",
       "OH    158\n",
       "AL    161\n",
       "NY    167\n",
       "MN    168\n",
       "WV    213\n",
       "Name: State, dtype: int64"
      ]
     },
     "execution_count": 73,
     "metadata": {},
     "output_type": "execute_result"
    }
   ],
   "source": [
    "states.sort_values(ascending=True)"
   ]
  },
  {
   "cell_type": "code",
   "execution_count": 74,
   "id": "84ffa3ee",
   "metadata": {},
   "outputs": [
    {
     "name": "stdout",
     "output_type": "stream",
     "text": [
      "Account length mean: 18.071269487750556\n",
      "Account length median: 10.0\n",
      "Account length max: 74\n",
      "Account length min: 1\n"
     ]
    }
   ],
   "source": [
    "# Check how long usually customer use the service and get churn out\n",
    "print(f\"Account length mean: {churned_df['Account Length (in months)'].mean()}\")\n",
    "print(f\"Account length median: {churned_df['Account Length (in months)'].median()}\")\n",
    "print(f\"Account length max: {churned_df['Account Length (in months)'].max()}\")\n",
    "print(f\"Account length min: {churned_df['Account Length (in months)'].min()}\")"
   ]
  },
  {
   "cell_type": "code",
   "execution_count": 77,
   "id": "38814b0e",
   "metadata": {},
   "outputs": [
    {
     "data": {
      "image/png": "[encoded data removed]",
      "text/plain": [
       "<Figure size 640x480 with 1 Axes>"
      ]
     },
     "metadata": {},
     "output_type": "display_data"
    }
   ],
   "source": [
    "# Calculate counts of churns over account lengths in months\n",
    "account_len = churned_df['Account Length (in months)'].value_counts()\n",
    "\n",
    "sns.lineplot(x=account_len.index,\n",
    "            y=account_len.values)\n",
    "\n",
    "plt.title('Accounts Length in Months when Customer Churn')\n",
    "plt.xlabel('Account Length (in months)')\n",
    "plt.ylabel('Count of churns')\n",
    "\n",
    "plt.show()"
   ]
  },
  {
   "cell_type": "code",
   "execution_count": 79,
   "id": "c2e0b308",
   "metadata": {},
   "outputs": [
    {
     "name": "stdout",
     "output_type": "stream",
     "text": [
      "Percentage of churns that occur in the first month: 20.43%\n"
     ]
    }
   ],
   "source": [
    "# Calculate the count of churns in the first month\n",
    "churns_first_month = account_len.get(1, 0)\n",
    "\n",
    "# Calculate the total count of churns\n",
    "total_churns = account_len.sum()\n",
    "\n",
    "# Calculate the percentage of churns that occur in the first month\n",
    "percentage_first_month_churns = (churns_first_month / total_churns) * 100\n",
    "\n",
    "# Round the percentage to two decimal places\n",
    "percentage_first_month_churns_rounded = round(percentage_first_month_churns, 2)\n",
    "\n",
    "print(f\"Percentage of churns that occur in the first month: {percentage_first_month_churns_rounded}%\")"
   ]
  },
  {
   "cell_type": "code",
   "execution_count": null,
   "id": "24fbc429",
   "metadata": {},
   "outputs": [],
   "source": []
  }
 ],
 "metadata": {
  "kernelspec": {
   "display_name": "Python 3 (ipykernel)",
   "language": "python",
   "name": "python3"
  },
  "language_info": {
   "codemirror_mode": {
    "name": "ipython",
    "version": 3
   },
   "file_extension": ".py",
   "mimetype": "text/x-python",
   "name": "python",
   "nbconvert_exporter": "python",
   "pygments_lexer": "ipython3",
   "version": "3.9.13"
  }
 },
 "nbformat": 4,
 "nbformat_minor": 5
}
